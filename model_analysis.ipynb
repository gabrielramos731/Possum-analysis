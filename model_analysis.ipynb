{
 "cells": [
  {
   "cell_type": "code",
   "execution_count": 232,
   "metadata": {},
   "outputs": [],
   "source": [
    "import pandas as pd\n",
    "import numpy as np\n",
    "import matplotlib.pyplot as plt\n",
    "from sklearn import linear_model, model_selection, preprocessing, metrics, pipeline\n",
    "from sklearn.compose import ColumnTransformer\n",
    "from sklearn.impute import SimpleImputer"
   ]
  },
  {
   "cell_type": "markdown",
   "metadata": {},
   "source": [
    "# Objetivos\n",
    "\n",
    "- Tentaremos criar e otimizar alguns modelos de **regressão** para a variável 'hdlngth'.\n",
    "\n",
    "- Criar um **classificador** para 'Pop' e 'sex'."
   ]
  },
  {
   "cell_type": "code",
   "execution_count": 233,
   "metadata": {},
   "outputs": [
    {
     "data": {
      "text/html": [
       "<div>\n",
       "<style scoped>\n",
       "    .dataframe tbody tr th:only-of-type {\n",
       "        vertical-align: middle;\n",
       "    }\n",
       "\n",
       "    .dataframe tbody tr th {\n",
       "        vertical-align: top;\n",
       "    }\n",
       "\n",
       "    .dataframe thead th {\n",
       "        text-align: right;\n",
       "    }\n",
       "</style>\n",
       "<table border=\"1\" class=\"dataframe\">\n",
       "  <thead>\n",
       "    <tr style=\"text-align: right;\">\n",
       "      <th></th>\n",
       "      <th>case</th>\n",
       "      <th>site</th>\n",
       "      <th>Pop</th>\n",
       "      <th>sex</th>\n",
       "      <th>age</th>\n",
       "      <th>hdlngth</th>\n",
       "      <th>skullw</th>\n",
       "      <th>totlngth</th>\n",
       "      <th>taill</th>\n",
       "      <th>footlgth</th>\n",
       "      <th>earconch</th>\n",
       "      <th>eye</th>\n",
       "      <th>chest</th>\n",
       "      <th>belly</th>\n",
       "    </tr>\n",
       "  </thead>\n",
       "  <tbody>\n",
       "    <tr>\n",
       "      <th>0</th>\n",
       "      <td>1</td>\n",
       "      <td>1</td>\n",
       "      <td>Vic</td>\n",
       "      <td>m</td>\n",
       "      <td>8.0</td>\n",
       "      <td>94.1</td>\n",
       "      <td>60.4</td>\n",
       "      <td>89.0</td>\n",
       "      <td>36.0</td>\n",
       "      <td>74.5</td>\n",
       "      <td>54.5</td>\n",
       "      <td>15.2</td>\n",
       "      <td>28.0</td>\n",
       "      <td>36.0</td>\n",
       "    </tr>\n",
       "    <tr>\n",
       "      <th>1</th>\n",
       "      <td>2</td>\n",
       "      <td>1</td>\n",
       "      <td>Vic</td>\n",
       "      <td>f</td>\n",
       "      <td>6.0</td>\n",
       "      <td>92.5</td>\n",
       "      <td>57.6</td>\n",
       "      <td>91.5</td>\n",
       "      <td>36.5</td>\n",
       "      <td>72.5</td>\n",
       "      <td>51.2</td>\n",
       "      <td>16.0</td>\n",
       "      <td>28.5</td>\n",
       "      <td>33.0</td>\n",
       "    </tr>\n",
       "    <tr>\n",
       "      <th>2</th>\n",
       "      <td>3</td>\n",
       "      <td>1</td>\n",
       "      <td>Vic</td>\n",
       "      <td>f</td>\n",
       "      <td>6.0</td>\n",
       "      <td>94.0</td>\n",
       "      <td>60.0</td>\n",
       "      <td>95.5</td>\n",
       "      <td>39.0</td>\n",
       "      <td>75.4</td>\n",
       "      <td>51.9</td>\n",
       "      <td>15.5</td>\n",
       "      <td>30.0</td>\n",
       "      <td>34.0</td>\n",
       "    </tr>\n",
       "    <tr>\n",
       "      <th>3</th>\n",
       "      <td>4</td>\n",
       "      <td>1</td>\n",
       "      <td>Vic</td>\n",
       "      <td>f</td>\n",
       "      <td>6.0</td>\n",
       "      <td>93.2</td>\n",
       "      <td>57.1</td>\n",
       "      <td>92.0</td>\n",
       "      <td>38.0</td>\n",
       "      <td>76.1</td>\n",
       "      <td>52.2</td>\n",
       "      <td>15.2</td>\n",
       "      <td>28.0</td>\n",
       "      <td>34.0</td>\n",
       "    </tr>\n",
       "    <tr>\n",
       "      <th>4</th>\n",
       "      <td>5</td>\n",
       "      <td>1</td>\n",
       "      <td>Vic</td>\n",
       "      <td>f</td>\n",
       "      <td>2.0</td>\n",
       "      <td>91.5</td>\n",
       "      <td>56.3</td>\n",
       "      <td>85.5</td>\n",
       "      <td>36.0</td>\n",
       "      <td>71.0</td>\n",
       "      <td>53.2</td>\n",
       "      <td>15.1</td>\n",
       "      <td>28.5</td>\n",
       "      <td>33.0</td>\n",
       "    </tr>\n",
       "  </tbody>\n",
       "</table>\n",
       "</div>"
      ],
      "text/plain": [
       "   case  site  Pop sex  age  hdlngth  skullw  totlngth  taill  footlgth  \\\n",
       "0     1     1  Vic   m  8.0     94.1    60.4      89.0   36.0      74.5   \n",
       "1     2     1  Vic   f  6.0     92.5    57.6      91.5   36.5      72.5   \n",
       "2     3     1  Vic   f  6.0     94.0    60.0      95.5   39.0      75.4   \n",
       "3     4     1  Vic   f  6.0     93.2    57.1      92.0   38.0      76.1   \n",
       "4     5     1  Vic   f  2.0     91.5    56.3      85.5   36.0      71.0   \n",
       "\n",
       "   earconch   eye  chest  belly  \n",
       "0      54.5  15.2   28.0   36.0  \n",
       "1      51.2  16.0   28.5   33.0  \n",
       "2      51.9  15.5   30.0   34.0  \n",
       "3      52.2  15.2   28.0   34.0  \n",
       "4      53.2  15.1   28.5   33.0  "
      ]
     },
     "execution_count": 233,
     "metadata": {},
     "output_type": "execute_result"
    }
   ],
   "source": [
    "df = pd.read_csv('data/possum.csv')\n",
    "df.head()"
   ]
  },
  {
   "cell_type": "markdown",
   "metadata": {},
   "source": [
    "# Seperação dos dados"
   ]
  },
  {
   "cell_type": "code",
   "execution_count": 234,
   "metadata": {},
   "outputs": [],
   "source": [
    "df_train, df_test = model_selection.train_test_split(df,\n",
    "                                                     test_size=0.25,\n",
    "                                                     random_state=42)"
   ]
  },
  {
   "cell_type": "markdown",
   "metadata": {},
   "source": [
    "## Análisando variáveis alvo"
   ]
  },
  {
   "cell_type": "code",
   "execution_count": 235,
   "metadata": {},
   "outputs": [
    {
     "data": {
      "text/plain": [
       "<Axes: xlabel='chest', ylabel='belly'>"
      ]
     },
     "execution_count": 235,
     "metadata": {},
     "output_type": "execute_result"
    },
    {
     "data": {
      "image/png": "[encoded data removed]",
      "text/plain": [
       "<Figure size 640x480 with 2 Axes>"
      ]
     },
     "metadata": {},
     "output_type": "display_data"
    }
   ],
   "source": [
    "df_train.plot(kind='scatter',x='chest',y='belly',\n",
    "              c='hdlngth')"
   ]
  },
  {
   "cell_type": "code",
   "execution_count": 236,
   "metadata": {},
   "outputs": [
    {
     "data": {
      "text/plain": [
       "hdlngth     1.000000\n",
       "totlngth    0.733134\n",
       "skullw      0.681317\n",
       "chest       0.646412\n",
       "belly       0.603422\n",
       "footlgth    0.455711\n",
       "eye         0.357662\n",
       "taill       0.327997\n",
       "age         0.229953\n",
       "earconch    0.145779\n",
       "site       -0.189924\n",
       "case       -0.237881\n",
       "Name: hdlngth, dtype: float64"
      ]
     },
     "execution_count": 236,
     "metadata": {},
     "output_type": "execute_result"
    }
   ],
   "source": [
    "df_train.select_dtypes('number').corr()['hdlngth'].sort_values(ascending=False)"
   ]
  },
  {
   "cell_type": "markdown",
   "metadata": {},
   "source": [
    "Forte relação linear entre as variáveis totlngth, skullw, chest, belly com hdlngth"
   ]
  },
  {
   "cell_type": "markdown",
   "metadata": {},
   "source": [
    "# Processando os dados\n",
    "\n",
    "Dados categoricos serão transformados em numéricos e aplicaremos algumas normalizações nos dados para ajustar as escalas."
   ]
  },
  {
   "cell_type": "markdown",
   "metadata": {},
   "source": [
    "## Dados categóricos e valores nulos\n",
    "\n",
    "Iremos aplicar o OrdinalEncoder nos dados categóricos e inputar os valores faltantes com a média da variável do respectivo grupo (sex, Pop)"
   ]
  },
  {
   "cell_type": "markdown",
   "metadata": {},
   "source": [
    "### Pipeline de transformação"
   ]
  },
  {
   "cell_type": "code",
   "execution_count": 237,
   "metadata": {},
   "outputs": [
    {
     "data": {
      "text/html": [
       "<div>\n",
       "<style scoped>\n",
       "    .dataframe tbody tr th:only-of-type {\n",
       "        vertical-align: middle;\n",
       "    }\n",
       "\n",
       "    .dataframe tbody tr th {\n",
       "        vertical-align: top;\n",
       "    }\n",
       "\n",
       "    .dataframe thead th {\n",
       "        text-align: right;\n",
       "    }\n",
       "</style>\n",
       "<table border=\"1\" class=\"dataframe\">\n",
       "  <thead>\n",
       "    <tr style=\"text-align: right;\">\n",
       "      <th></th>\n",
       "      <th>sex</th>\n",
       "      <th>Pop</th>\n",
       "      <th>age</th>\n",
       "      <th>hdlngth</th>\n",
       "      <th>skullw</th>\n",
       "      <th>totlngth</th>\n",
       "      <th>taill</th>\n",
       "      <th>footlgth</th>\n",
       "      <th>earconch</th>\n",
       "      <th>eye</th>\n",
       "      <th>chest</th>\n",
       "      <th>belly</th>\n",
       "    </tr>\n",
       "  </thead>\n",
       "  <tbody>\n",
       "    <tr>\n",
       "      <th>15</th>\n",
       "      <td>1.0</td>\n",
       "      <td>0.0</td>\n",
       "      <td>0.148802</td>\n",
       "      <td>-0.265683</td>\n",
       "      <td>-0.284865</td>\n",
       "      <td>-0.268027</td>\n",
       "      <td>-1.322258</td>\n",
       "      <td>1.063750</td>\n",
       "      <td>0.820338</td>\n",
       "      <td>-0.598860</td>\n",
       "      <td>0.494374</td>\n",
       "      <td>-0.173442</td>\n",
       "    </tr>\n",
       "    <tr>\n",
       "      <th>42</th>\n",
       "      <td>0.0</td>\n",
       "      <td>0.0</td>\n",
       "      <td>-0.956581</td>\n",
       "      <td>-0.714361</td>\n",
       "      <td>-0.442004</td>\n",
       "      <td>-1.386000</td>\n",
       "      <td>-2.592408</td>\n",
       "      <td>0.838526</td>\n",
       "      <td>0.328135</td>\n",
       "      <td>-1.558020</td>\n",
       "      <td>0.985598</td>\n",
       "      <td>-0.539075</td>\n",
       "    </tr>\n",
       "    <tr>\n",
       "      <th>40</th>\n",
       "      <td>0.0</td>\n",
       "      <td>0.0</td>\n",
       "      <td>0.701493</td>\n",
       "      <td>-1.163039</td>\n",
       "      <td>0.029413</td>\n",
       "      <td>-0.938811</td>\n",
       "      <td>-0.306139</td>\n",
       "      <td>-0.152459</td>\n",
       "      <td>-1.911388</td>\n",
       "      <td>0.839880</td>\n",
       "      <td>0.003149</td>\n",
       "      <td>-0.721892</td>\n",
       "    </tr>\n",
       "    <tr>\n",
       "      <th>9</th>\n",
       "      <td>0.0</td>\n",
       "      <td>0.0</td>\n",
       "      <td>1.254184</td>\n",
       "      <td>-0.209599</td>\n",
       "      <td>0.343692</td>\n",
       "      <td>0.514554</td>\n",
       "      <td>0.201921</td>\n",
       "      <td>0.590780</td>\n",
       "      <td>1.312541</td>\n",
       "      <td>-0.598860</td>\n",
       "      <td>0.248761</td>\n",
       "      <td>-0.173442</td>\n",
       "    </tr>\n",
       "    <tr>\n",
       "      <th>85</th>\n",
       "      <td>0.0</td>\n",
       "      <td>1.0</td>\n",
       "      <td>-0.403890</td>\n",
       "      <td>-1.219124</td>\n",
       "      <td>-1.164844</td>\n",
       "      <td>-0.156230</td>\n",
       "      <td>0.709981</td>\n",
       "      <td>-1.796594</td>\n",
       "      <td>-1.074643</td>\n",
       "      <td>-1.366188</td>\n",
       "      <td>-0.488076</td>\n",
       "      <td>-0.539075</td>\n",
       "    </tr>\n",
       "  </tbody>\n",
       "</table>\n",
       "</div>"
      ],
      "text/plain": [
       "    sex  Pop       age   hdlngth    skullw  totlngth     taill  footlgth  \\\n",
       "15  1.0  0.0  0.148802 -0.265683 -0.284865 -0.268027 -1.322258  1.063750   \n",
       "42  0.0  0.0 -0.956581 -0.714361 -0.442004 -1.386000 -2.592408  0.838526   \n",
       "40  0.0  0.0  0.701493 -1.163039  0.029413 -0.938811 -0.306139 -0.152459   \n",
       "9   0.0  0.0  1.254184 -0.209599  0.343692  0.514554  0.201921  0.590780   \n",
       "85  0.0  1.0 -0.403890 -1.219124 -1.164844 -0.156230  0.709981 -1.796594   \n",
       "\n",
       "    earconch       eye     chest     belly  \n",
       "15  0.820338 -0.598860  0.494374 -0.173442  \n",
       "42  0.328135 -1.558020  0.985598 -0.539075  \n",
       "40 -1.911388  0.839880  0.003149 -0.721892  \n",
       "9   1.312541 -0.598860  0.248761 -0.173442  \n",
       "85 -1.074643 -1.366188 -0.488076 -0.539075  "
      ]
     },
     "execution_count": 237,
     "metadata": {},
     "output_type": "execute_result"
    }
   ],
   "source": [
    "num_columns=['age', 'hdlngth', 'skullw', 'totlngth','taill', 'footlgth', 'earconch', 'eye', 'chest', 'belly']\n",
    "\n",
    "scaler_imputer_pipeline = pipeline.Pipeline([  # Faz transformações nas mesmas colunas\n",
    "    ('imputer', SimpleImputer(strategy='median')),\n",
    "    ('scaler', preprocessing.StandardScaler())\n",
    "])\n",
    "\n",
    "# Definição do ColumnTransformer\n",
    "preprocessor = ColumnTransformer([('ordinal', preprocessing.OrdinalEncoder(), ['sex','Pop']), # Codificação ordinal\n",
    "                                  ('scaler_imputer', scaler_imputer_pipeline, num_columns)], # Pipeline combinado para colunas numéricas\n",
    "                                  verbose_feature_names_out=False) \n",
    "\n",
    "\n",
    "df_train = pd.DataFrame(preprocessor.fit_transform(df_train),\n",
    "                        columns=preprocessor.get_feature_names_out(),\n",
    "                        index=df_train.index)\n",
    "\n",
    "df_train.head()"
   ]
  },
  {
   "cell_type": "markdown",
   "metadata": {},
   "source": [
    "# Modelos de predição"
   ]
  },
  {
   "cell_type": "code",
   "execution_count": 238,
   "metadata": {},
   "outputs": [],
   "source": [
    "from sklearn.tree import DecisionTreeRegressor\n",
    "from sklearn.ensemble import RandomForestRegressor"
   ]
  },
  {
   "cell_type": "code",
   "execution_count": 239,
   "metadata": {},
   "outputs": [],
   "source": [
    "# Separação das variáveis alvo\n",
    "\n",
    "X_train = df_train.drop('hdlngth',axis=1)\n",
    "X_test = df_test.drop('hdlngth',axis=1)\n",
    "\n",
    "y_train = df_train['hdlngth']\n",
    "y_test = df_test['hdlngth']"
   ]
  },
  {
   "cell_type": "code",
   "execution_count": 240,
   "metadata": {},
   "outputs": [
    {
     "name": "stdout",
     "output_type": "stream",
     "text": [
      "Cross val results\n",
      "count    10.000000\n",
      "mean      0.549771\n",
      "std       0.148135\n",
      "min       0.311007\n",
      "25%       0.500692\n",
      "50%       0.560852\n",
      "75%       0.610483\n",
      "max       0.787262\n",
      "dtype: float64\n"
     ]
    }
   ],
   "source": [
    "lin_reg = linear_model.LinearRegression()\n",
    "cross_score = -model_selection.cross_val_score(lin_reg,\n",
    "                                               X_train,\n",
    "                                               y_train,\n",
    "                                               scoring='neg_root_mean_squared_error',\n",
    "                                               cv=10)\n",
    "print(f'Cross val results\\n{pd.Series(cross_score).describe()}')"
   ]
  },
  {
   "cell_type": "code",
   "execution_count": 241,
   "metadata": {},
   "outputs": [
    {
     "name": "stdout",
     "output_type": "stream",
     "text": [
      "Cross val results\n",
      "count    10.000000\n",
      "mean      0.834966\n",
      "std       0.347343\n",
      "min       0.343590\n",
      "25%       0.593190\n",
      "50%       0.824422\n",
      "75%       1.032463\n",
      "max       1.447920\n",
      "dtype: float64\n"
     ]
    }
   ],
   "source": [
    "tree_rmses = -model_selection.cross_val_score(DecisionTreeRegressor(),\n",
    "                                              X_train,\n",
    "                                              y_train,\n",
    "                                              scoring=\"neg_root_mean_squared_error\",\n",
    "                                              cv=10)\n",
    "print(f'Cross val results\\n{pd.Series(tree_rmses).describe()}')"
   ]
  },
  {
   "cell_type": "code",
   "execution_count": 242,
   "metadata": {},
   "outputs": [
    {
     "name": "stdout",
     "output_type": "stream",
     "text": [
      "Cross val results\n",
      "count    10.000000\n",
      "mean      0.598106\n",
      "std       0.136711\n",
      "min       0.319882\n",
      "25%       0.534596\n",
      "50%       0.619375\n",
      "75%       0.682735\n",
      "max       0.799445\n",
      "dtype: float64\n"
     ]
    }
   ],
   "source": [
    "forest_reg = RandomForestRegressor(random_state=42)\n",
    "forest_rmses = -model_selection.cross_val_score(forest_reg,\n",
    "                                X_train,\n",
    "                                y_train,\n",
    "                                scoring=\"neg_root_mean_squared_error\",\n",
    "                                cv=10)\n",
    "print(f'Cross val results\\n{pd.Series(forest_rmses).describe()}')"
   ]
  }
 ],
 "metadata": {
  "kernelspec": {
   "display_name": "base",
   "language": "python",
   "name": "python3"
  },
  "language_info": {
   "codemirror_mode": {
    "name": "ipython",
    "version": 3
   },
   "file_extension": ".py",
   "mimetype": "text/x-python",
   "name": "python",
   "nbconvert_exporter": "python",
   "pygments_lexer": "ipython3",
   "version": "3.11.5"
  }
 },
 "nbformat": 4,
 "nbformat_minor": 2
}
